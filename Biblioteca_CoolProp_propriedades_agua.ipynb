{
  "nbformat": 4,
  "nbformat_minor": 0,
  "metadata": {
    "colab": {
      "provenance": [],
      "collapsed_sections": [],
      "authorship_tag": "ABX9TyPrFAJ36mZH3E8TDBR5sLnS",
      "include_colab_link": true
    },
    "kernelspec": {
      "name": "python3",
      "display_name": "Python 3"
    },
    "language_info": {
      "name": "python"
    }
  },
  "cells": [
    {
      "cell_type": "markdown",
      "metadata": {
        "id": "view-in-github",
        "colab_type": "text"
      },
      "source": [
        "<a href=\"https://colab.research.google.com/github/Zaine-eng/Zaine-eng/blob/main/Biblioteca_CoolProp_propriedades_agua.ipynb\" target=\"_parent\"><img src=\"https://colab.research.google.com/assets/colab-badge.svg\" alt=\"Open In Colab\"/></a>"
      ]
    },
    {
      "cell_type": "markdown",
      "source": [
        "# **1. Propriedades de Vapor / água**"
      ],
      "metadata": {
        "id": "k_zfR77pApRG"
      }
    },
    {
      "cell_type": "markdown",
      "source": [
        "Instalando o coolprop para poder iniciar as configurações para análise da água."
      ],
      "metadata": {
        "id": "chKLkPy6Cj1u"
      }
    },
    {
      "cell_type": "code",
      "source": [
        "!pip3 install coolprop"
      ],
      "metadata": {
        "colab": {
          "base_uri": "https://localhost:8080/"
        },
        "id": "ZU0PuHa-2LKa",
        "outputId": "dbac8b70-3251-4215-f242-54b839d31c20"
      },
      "execution_count": 8,
      "outputs": [
        {
          "output_type": "stream",
          "name": "stdout",
          "text": [
            "Looking in indexes: https://pypi.org/simple, https://us-python.pkg.dev/colab-wheels/public/simple/\n",
            "Collecting coolprop\n",
            "  Downloading CoolProp-6.4.1-cp37-cp37m-manylinux_2_17_x86_64.manylinux2014_x86_64.whl (44.2 MB)\n",
            "\u001b[K     |████████████████████████████████| 44.2 MB 1.3 MB/s \n",
            "\u001b[?25hInstalling collected packages: coolprop\n",
            "Successfully installed coolprop-6.4.1\n"
          ]
        }
      ]
    },
    {
      "cell_type": "code",
      "execution_count": 9,
      "metadata": {
        "id": "LSFju9uSqmfi"
      },
      "outputs": [],
      "source": [
        "import matplotlib\n",
        "import numpy as np\n",
        "import CoolProp.CoolProp as CP\n",
        "import matplotlib.pyplot as plt\n",
        "import matplotlib.ticker as ticker\n",
        "import scipy.interpolate"
      ]
    },
    {
      "cell_type": "code",
      "source": [
        "pc = CP.PropsSI('pcrit','IF97::Water')/1e6\n",
        "Tc = CP.PropsSI('Tcrit','IF97::Water')\n",
        "pt = CP.PropsSI('ptriple','IF97::Water')/1e6\n",
        "Tt = CP.PropsSI('Ttriple','IF97::Water')\n",
        "# Tmin = 273.15\n",
        "Tmin = CP.PropsSI('Tmin','IF97::Water')\n",
        "Tmax = CP.PropsSI('Tmax','IF97::Water')\n",
        "pmax = CP.PropsSI('pmax','IF97::Water')/1e6\n",
        "pmin = 0\n",
        "Tb = 623.15\n",
        "pb = 16.5291643\n",
        "fillcolor = 'g'\n",
        "\n",
        "fig = plt.figure(figsize = (9,6))\n",
        "ax = plt.subplot2grid((1,9), (0,0), colspan=7)\n",
        "ax.spines['right'].set_visible(False)\n",
        "ax.spines['top'].set_visible(False)\n",
        "ax.xaxis.set_ticks_position('bottom')\n",
        "ax.yaxis.set_ticks_position('left')\n",
        "ax.xaxis.set_major_formatter(ticker.FormatStrFormatter('%0.2f'))\n",
        "lw = 3\n",
        "\n",
        "# ----------------\n",
        "# Saturation curve\n",
        "# ----------------\n",
        "Ts = np.linspace(Tt, Tc, 1000)\n",
        "ps = CP.PropsSI('P','T',Ts,'Q',0,'IF97::Water')/1e6\n",
        "plt.plot(Ts,ps,'orange',lw = lw, solid_capstyle = 'round')\n",
        "\n",
        "# ------\n",
        "# Labels\n",
        "# ------\n",
        "\n",
        "# ----------------\n",
        "# Boundary lines\n",
        "# ----------------\n",
        "# plt.axhline(pc, dashes = [2, 2])\n",
        "plt.axvline(x = Tb, ymin = pb/100, ymax = 1, dashes = [2, 2])\n",
        "plt.axvline(x = Tmax, ymin = 0, ymax = 1, linewidth = 1, color = 'black')\n",
        "plt.axhline(y = pmax, xmin = 0, xmax = (Tmax-Tmin)/(Tmax-Tmin+300), linewidth = 2, color = 'black')\n",
        "plt.axhline(y = 50, xmin = (Tmax-Tmin)/(Tmax-Tmin+300), xmax = 1, linewidth = 1, color = 'black')\n",
        "\n",
        "# -----------------------------\n",
        "# Region 2-3 Boundary\n",
        "# -----------------------------\n",
        "n3 = 0.10192970039326e-2\n",
        "n4 = 0.57254459862746e3\n",
        "n5 = 0.1391883776670e2\n",
        "PI = 2.0*np.arcsin(1.0)\n",
        "TT = []\n",
        "PP = list(np.linspace(pb,pmax,1000))\n",
        "for p in PP:\n",
        "    TT.append(n4+np.sqrt((p-n5)/n3))\n",
        "\n",
        "plt.plot(TT,PP,lw=1, dashes = [2,2])\n",
        "\n",
        "# Labels\n",
        "plt.text(1300, 51, '50 MPa',ha= 'center')\n",
        "plt.text(473, 80, 'Region 1', fontsize = 14, ha = 'center')\n",
        "plt.text(973, 80, 'Region 2', fontsize = 14, ha = 'center')\n",
        "plt.text(720, 80, 'Region 3', fontsize = 14, ha = 'center')\n",
        "plt.text(1300, 25, 'Region 5', fontsize = 14, ha = 'center')\n",
        "plt.annotate('Region 4', xy=(570, 8), xytext=(700, 5), arrowprops=dict(facecolor='black', shrink=0.05), fontsize = 14)\n",
        "plt.title('Regions and equations of IAPWS-IF97', fontsize = 14)\n",
        "\n",
        "plt.ylim(pmin-1,pmax)\n",
        "ax.set_xticks([Tt, Tb, Tmax])\n",
        "plt.gca().set_xlim(Tt, Tmax+300)\n",
        "plt.ylabel('Pressure [MPa]', fontsize = 11)\n",
        "plt.xlabel('Temperature [K]', fontsize = 11)\n",
        "plt.tight_layout()\n",
        "\n",
        "# -----------------------------\n",
        "# Extended Temperature Region 5\n",
        "# -----------------------------\n",
        "bx = plt.subplot2grid((1,9), (0,7), colspan=2)\n",
        "bx.spines['right'].set_visible(False)\n",
        "bx.spines['top'].set_visible(False)\n",
        "bx.spines['left'].set_visible(False)\n",
        "bx.xaxis.set_ticks_position('bottom')\n",
        "bx.yaxis.set_ticks_position('none')\n",
        "bx.axes.get_yaxis().set_visible(False)\n",
        "bx.set_xticks([2273.15])\n",
        "bx.xaxis.set_major_formatter(ticker.FormatStrFormatter('%0.2f'))\n",
        "\n",
        "# ----------------\n",
        "# Boundary lines\n",
        "# ----------------\n",
        "plt.axhline(50, linewidth = 1, color = 'black')\n",
        "plt.axvline(x = 2272, ymin = 0, ymax = 0.5, linewidth = 1, color = 'black')\n",
        "\n",
        "# ----------------\n",
        "# Plot Formatting\n",
        "# ----------------\n",
        "plt.ylim(pmin-1,pmax)\n",
        "plt.gca().set_xlim(2173.15, 2273.15)\n",
        "plt.tight_layout()\n"
      ],
      "metadata": {
        "colab": {
          "base_uri": "https://localhost:8080/",
          "height": 441
        },
        "id": "h9r4ftGq3Ufr",
        "outputId": "ee453797-f99f-4679-e21d-7693e95859d2"
      },
      "execution_count": 28,
      "outputs": [
        {
          "output_type": "display_data",
          "data": {
            "text/plain": [
              "<Figure size 648x432 with 2 Axes>"
            ],
            "image/png": "[encoded data removed]"
          },
          "metadata": {
            "needs_background": "light"
          }
        }
      ]
    },
    {
      "cell_type": "markdown",
      "source": [
        "Puxando o PropsSI "
      ],
      "metadata": {
        "id": "6DTDUhb1DEj2"
      }
    },
    {
      "cell_type": "code",
      "source": [
        "from CoolProp.CoolProp import PropsSI"
      ],
      "metadata": {
        "id": "x7vnSIQ9AM6e"
      },
      "execution_count": 20,
      "outputs": []
    },
    {
      "cell_type": "code",
      "source": [
        "#Specific heat capacity of Water at 500 K and 1 atm\n",
        "In [2]: PropsSI('C','T',500,'P',101325,'IF97::Water')"
      ],
      "metadata": {
        "colab": {
          "base_uri": "https://localhost:8080/"
        },
        "id": "YD7pz8rsAZTL",
        "outputId": "a782345e-6550-4376-8838-08f71c3537d5"
      },
      "execution_count": 23,
      "outputs": [
        {
          "output_type": "execute_result",
          "data": {
            "text/plain": [
              "1981.5422965970472"
            ]
          },
          "metadata": {},
          "execution_count": 23
        }
      ]
    },
    {
      "cell_type": "markdown",
      "source": [
        "continuaa....."
      ],
      "metadata": {
        "id": "T8-PvLsWDbrG"
      }
    }
  ]
}